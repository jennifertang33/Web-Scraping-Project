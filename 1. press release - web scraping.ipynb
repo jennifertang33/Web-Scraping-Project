{
 "cells": [
  {
   "cell_type": "code",
   "execution_count": 1,
   "id": "48e3d1a5",
   "metadata": {},
   "outputs": [],
   "source": [
    "import requests\n",
    "from selenium import webdriver\n",
    "from selenium.webdriver.common.keys import Keys\n",
    "from selenium.webdriver.support.ui import WebDriverWait\n",
    "from bs4 import BeautifulSoup\n",
    "import time\n",
    "import pandas as pd\n",
    "import numpy as np\n",
    "import csv \n",
    "import re\n",
    "import time"
   ]
  },
  {
   "cell_type": "code",
   "execution_count": 5,
   "id": "e2624ebc",
   "metadata": {},
   "outputs": [
    {
     "name": "stderr",
     "output_type": "stream",
     "text": [
      "C:\\Users\\Jacky\\AppData\\Local\\Temp/ipykernel_5452/1429332660.py:2: DeprecationWarning: executable_path has been deprecated, please pass in a Service object\n",
      "  driver = webdriver.Chrome('./chromedriver')\n"
     ]
    }
   ],
   "source": [
    "URL = \"https://www.info.gov.hk/gia/general/today.htm\"\n",
    "driver = webdriver.Chrome('./chromedriver')\n",
    "driver.get(URL) \n",
    "subhtml = driver.page_source\n",
    "soup = BeautifulSoup(subhtml, \"html.parser\")\n",
    "date = []\n",
    "title = []\n"
   ]
  },
  {
   "cell_type": "code",
   "execution_count": 121,
   "id": "849be242",
   "metadata": {},
   "outputs": [],
   "source": [
    "x = 0\n",
    "while x<1940:\n",
    "    x += 1\n",
    "    # scrape each page for date and headlines\n",
    "    \n",
    "    for i in soup.find_all(\"li\"):\n",
    "        title.append(i.find(class_='NEW').text)\n",
    "        #print(i.find(class_='NEW').text)\n",
    "        date.append(soup.find(id='headerBanner').text)    \n",
    "\n",
    "        \n",
    "    # going to yesterday to scrape\n",
    "    nextlink = soup.find(\"a\", class_=\"newAch mL5\").attrs['href']\n",
    "    \n",
    "    if nextlink:\n",
    "        nextlink = URL[:23] + nextlink\n",
    "        driver.get(nextlink)\n",
    "        subhtml = driver.page_source\n",
    "        soup = BeautifulSoup(subhtml, \"html.parser\")\n",
    "    else:\n",
    "        break"
   ]
  },
  {
   "cell_type": "code",
   "execution_count": 122,
   "id": "650d40af",
   "metadata": {},
   "outputs": [
    {
     "name": "stdout",
     "output_type": "stream",
     "text": [
      "<class 'pandas.core.frame.DataFrame'>\n",
      "RangeIndex: 56487 entries, 0 to 56486\n",
      "Data columns (total 2 columns):\n",
      " #   Column  Non-Null Count  Dtype \n",
      "---  ------  --------------  ----- \n",
      " 0   date    56487 non-null  object\n",
      " 1   title   56487 non-null  object\n",
      "dtypes: object(2)\n",
      "memory usage: 882.7+ KB\n"
     ]
    }
   ],
   "source": [
    "df = pd.DataFrame(data={\"date\": date, \"title\": title})\n",
    "df.info()\n",
    "#start time 2158\n",
    "#46951 for carrie"
   ]
  },
  {
   "cell_type": "code",
   "execution_count": 119,
   "id": "a26cdf22",
   "metadata": {},
   "outputs": [],
   "source": [
    "df.to_csv(\"./govheadline_final.csv\", sep=',',index=False)"
   ]
  }
 ],
 "metadata": {
  "kernelspec": {
   "display_name": "Python 3",
   "language": "python",
   "name": "python3"
  },
  "language_info": {
   "codemirror_mode": {
    "name": "ipython",
    "version": 3
   },
   "file_extension": ".py",
   "mimetype": "text/x-python",
   "name": "python",
   "nbconvert_exporter": "python",
   "pygments_lexer": "ipython3",
   "version": "3.8.8"
  }
 },
 "nbformat": 4,
 "nbformat_minor": 5
}
